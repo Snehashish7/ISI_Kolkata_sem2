{
 "cells": [
  {
   "cell_type": "code",
   "execution_count": 45,
   "metadata": {},
   "outputs": [],
   "source": [
    "#import libraries here\n",
    "import pandas as pd\n",
    "import math\n",
    "import sklearn\n",
    "import re"
   ]
  },
  {
   "cell_type": "code",
   "execution_count": 1,
   "metadata": {},
   "outputs": [],
   "source": [
    "docA = \"Term frequency, tf(t,d), is the relative frequency of term t within document d,\\\n",
    "    where ft,d is the raw count of a term in a document, i.e., the number of times that \\\n",
    "    term t occurs in document d. Note the denominator is simply the total number of terms\\\n",
    "    in document d (counting each occurrence of the same term separately). There are various\\\n",
    "    other ways to define term frequency, such as the binary, logarithmic, and augmented\"\n",
    "\n",
    "docB = \"Inverse document frequency, idf(t,D), is a measure of how much information the word\\\n",
    "        provides, i.e., if it's common or rare across all documents. It is the logarithmically\\\n",
    "        scaled fraction of the documents that contain the word, obtained by dividing the total\\\n",
    "        number of documents by the number of documents containing the term, and then taking the\\\n",
    "        logarithm of that quotient.\""
   ]
  },
  {
   "cell_type": "code",
   "execution_count": 46,
   "metadata": {},
   "outputs": [],
   "source": [
    "termListA =  re.sub(r\"[^\\w\\s]\", \"\", docA).split()\n",
    "termListB = re.sub(r\"[^\\w\\s]\", \"\", docB).split()\n",
    "total = list(set(termListA).union(set(termListB)))"
   ]
  },
  {
   "cell_type": "code",
   "execution_count": 47,
   "metadata": {},
   "outputs": [
    {
     "name": "stdout",
     "output_type": "stream",
     "text": [
      "['Term', 'frequency', 'tftd', 'is', 'the', 'relative', 'frequency', 'of', 'term', 't', 'within', 'document', 'd', 'where', 'ftd', 'is', 'the', 'raw', 'count', 'of', 'a', 'term', 'in', 'a', 'document', 'ie', 'the', 'number', 'of', 'times', 'that', 'term', 't', 'occurs', 'in', 'document', 'd', 'Note', 'the', 'denominator', 'is', 'simply', 'the', 'total', 'number', 'of', 'terms', 'in', 'document', 'd', 'counting', 'each', 'occurrence', 'of', 'the', 'same', 'term', 'separately', 'There', 'are', 'various', 'other', 'ways', 'to', 'define', 'term', 'frequency', 'such', 'as', 'the', 'binary', 'logarithmic', 'and', 'augmented']\n",
      "['Inverse', 'document', 'frequency', 'idftD', 'is', 'a', 'measure', 'of', 'how', 'much', 'information', 'the', 'word', 'provides', 'ie', 'if', 'its', 'common', 'or', 'rare', 'across', 'all', 'documents', 'It', 'is', 'the', 'logarithmically', 'scaled', 'fraction', 'of', 'the', 'documents', 'that', 'contain', 'the', 'word', 'obtained', 'by', 'dividing', 'the', 'total', 'number', 'of', 'documents', 'by', 'the', 'number', 'of', 'documents', 'containing', 'the', 'term', 'and', 'then', 'taking', 'the', 'logarithm', 'of', 'that', 'quotient']\n",
      "['fraction', 'in', 'provides', 'term', 'are', 'taking', 'binary', 'count', 'is', 'obtained', 'by', 'occurs', 'as', 'There', 'measure', 'number', 'if', 'containing', 'how', 'Term', 'that', 'Inverse', 'same', 'augmented', 'all', 'logarithmically', 'Note', 'the', 'document', 'ftd', 'information', 'relative', 'then', 'within', 'common', 'where', 'and', 'd', 'documents', 'word', 'frequency', 'It', 'scaled', 'logarithmic', 'define', 'raw', 'occurrence', 'or', 'tftd', 'ways', 'contain', 't', 'various', 'its', 'terms', 'other', 'total', 'denominator', 'separately', 'dividing', 'simply', 'quotient', 'much', 'counting', 'such', 'logarithm', 'idftD', 'rare', 'a', 'to', 'of', 'times', 'across', 'ie', 'each']\n"
     ]
    }
   ],
   "source": [
    "print(termListA)\n",
    "print(termListB)\n",
    "print(total)"
   ]
  },
  {
   "cell_type": "markdown",
   "metadata": {},
   "source": [
    "<h2>Bag of Words</h2>"
   ]
  },
  {
   "cell_type": "code",
   "execution_count": 48,
   "metadata": {},
   "outputs": [],
   "source": [
    "def listtoDic(li):\n",
    "    dic = {}\n",
    "    for i in li:\n",
    "        if(i not in dic):\n",
    "            dic[i] = 1\n",
    "        else:\n",
    "            dic[i] += 1\n",
    "    return dic"
   ]
  },
  {
   "cell_type": "code",
   "execution_count": 49,
   "metadata": {},
   "outputs": [],
   "source": [
    "dicA = listtoDic(termListA)\n",
    "dicB = listtoDic(termListB)"
   ]
  },
  {
   "cell_type": "code",
   "execution_count": 50,
   "metadata": {},
   "outputs": [
    {
     "name": "stdout",
     "output_type": "stream",
     "text": [
      "{'Term': 1, 'frequency': 3, 'tftd': 1, 'is': 3, 'the': 7, 'relative': 1, 'of': 5, 'term': 5, 't': 2, 'within': 1, 'document': 4, 'd': 3, 'where': 1, 'ftd': 1, 'raw': 1, 'count': 1, 'a': 2, 'in': 3, 'ie': 1, 'number': 2, 'times': 1, 'that': 1, 'occurs': 1, 'Note': 1, 'denominator': 1, 'simply': 1, 'total': 1, 'terms': 1, 'counting': 1, 'each': 1, 'occurrence': 1, 'same': 1, 'separately': 1, 'There': 1, 'are': 1, 'various': 1, 'other': 1, 'ways': 1, 'to': 1, 'define': 1, 'such': 1, 'as': 1, 'binary': 1, 'logarithmic': 1, 'and': 1, 'augmented': 1}\n",
      "{'Inverse': 1, 'document': 1, 'frequency': 1, 'idftD': 1, 'is': 2, 'a': 1, 'measure': 1, 'of': 5, 'how': 1, 'much': 1, 'information': 1, 'the': 8, 'word': 2, 'provides': 1, 'ie': 1, 'if': 1, 'its': 1, 'common': 1, 'or': 1, 'rare': 1, 'across': 1, 'all': 1, 'documents': 4, 'It': 1, 'logarithmically': 1, 'scaled': 1, 'fraction': 1, 'that': 2, 'contain': 1, 'obtained': 1, 'by': 2, 'dividing': 1, 'total': 1, 'number': 2, 'containing': 1, 'term': 1, 'and': 1, 'then': 1, 'taking': 1, 'logarithm': 1, 'quotient': 1}\n"
     ]
    }
   ],
   "source": [
    "print(dicA)\n",
    "print(dicB)"
   ]
  },
  {
   "cell_type": "code",
   "execution_count": 51,
   "metadata": {},
   "outputs": [
    {
     "data": {
      "text/html": [
       "<div>\n",
       "<style scoped>\n",
       "    .dataframe tbody tr th:only-of-type {\n",
       "        vertical-align: middle;\n",
       "    }\n",
       "\n",
       "    .dataframe tbody tr th {\n",
       "        vertical-align: top;\n",
       "    }\n",
       "\n",
       "    .dataframe thead th {\n",
       "        text-align: right;\n",
       "    }\n",
       "</style>\n",
       "<table border=\"1\" class=\"dataframe\">\n",
       "  <thead>\n",
       "    <tr style=\"text-align: right;\">\n",
       "      <th></th>\n",
       "      <th>Term</th>\n",
       "      <th>frequency</th>\n",
       "      <th>tftd</th>\n",
       "      <th>is</th>\n",
       "      <th>the</th>\n",
       "      <th>relative</th>\n",
       "      <th>of</th>\n",
       "      <th>term</th>\n",
       "      <th>t</th>\n",
       "      <th>within</th>\n",
       "      <th>...</th>\n",
       "      <th>fraction</th>\n",
       "      <th>contain</th>\n",
       "      <th>obtained</th>\n",
       "      <th>by</th>\n",
       "      <th>dividing</th>\n",
       "      <th>containing</th>\n",
       "      <th>then</th>\n",
       "      <th>taking</th>\n",
       "      <th>logarithm</th>\n",
       "      <th>quotient</th>\n",
       "    </tr>\n",
       "  </thead>\n",
       "  <tbody>\n",
       "    <tr>\n",
       "      <th>0</th>\n",
       "      <td>1.0</td>\n",
       "      <td>3</td>\n",
       "      <td>1.0</td>\n",
       "      <td>3</td>\n",
       "      <td>7</td>\n",
       "      <td>1.0</td>\n",
       "      <td>5</td>\n",
       "      <td>5</td>\n",
       "      <td>2.0</td>\n",
       "      <td>1.0</td>\n",
       "      <td>...</td>\n",
       "      <td>NaN</td>\n",
       "      <td>NaN</td>\n",
       "      <td>NaN</td>\n",
       "      <td>NaN</td>\n",
       "      <td>NaN</td>\n",
       "      <td>NaN</td>\n",
       "      <td>NaN</td>\n",
       "      <td>NaN</td>\n",
       "      <td>NaN</td>\n",
       "      <td>NaN</td>\n",
       "    </tr>\n",
       "    <tr>\n",
       "      <th>1</th>\n",
       "      <td>NaN</td>\n",
       "      <td>1</td>\n",
       "      <td>NaN</td>\n",
       "      <td>2</td>\n",
       "      <td>8</td>\n",
       "      <td>NaN</td>\n",
       "      <td>5</td>\n",
       "      <td>1</td>\n",
       "      <td>NaN</td>\n",
       "      <td>NaN</td>\n",
       "      <td>...</td>\n",
       "      <td>1.0</td>\n",
       "      <td>1.0</td>\n",
       "      <td>1.0</td>\n",
       "      <td>2.0</td>\n",
       "      <td>1.0</td>\n",
       "      <td>1.0</td>\n",
       "      <td>1.0</td>\n",
       "      <td>1.0</td>\n",
       "      <td>1.0</td>\n",
       "      <td>1.0</td>\n",
       "    </tr>\n",
       "  </tbody>\n",
       "</table>\n",
       "<p>2 rows × 75 columns</p>\n",
       "</div>"
      ],
      "text/plain": [
       "   Term  frequency  tftd  is  the  relative  of  term    t  within  ...  \\\n",
       "0   1.0          3   1.0   3    7       1.0   5     5  2.0     1.0  ...   \n",
       "1   NaN          1   NaN   2    8       NaN   5     1  NaN     NaN  ...   \n",
       "\n",
       "   fraction  contain  obtained   by  dividing  containing  then  taking  \\\n",
       "0       NaN      NaN       NaN  NaN       NaN         NaN   NaN     NaN   \n",
       "1       1.0      1.0       1.0  2.0       1.0         1.0   1.0     1.0   \n",
       "\n",
       "   logarithm  quotient  \n",
       "0        NaN       NaN  \n",
       "1        1.0       1.0  \n",
       "\n",
       "[2 rows x 75 columns]"
      ]
     },
     "execution_count": 51,
     "metadata": {},
     "output_type": "execute_result"
    }
   ],
   "source": [
    "df = pd.DataFrame([dicA,dicB])\n",
    "df"
   ]
  },
  {
   "cell_type": "code",
   "execution_count": 59,
   "metadata": {},
   "outputs": [
    {
     "data": {
      "text/html": [
       "<div>\n",
       "<style scoped>\n",
       "    .dataframe tbody tr th:only-of-type {\n",
       "        vertical-align: middle;\n",
       "    }\n",
       "\n",
       "    .dataframe tbody tr th {\n",
       "        vertical-align: top;\n",
       "    }\n",
       "\n",
       "    .dataframe thead th {\n",
       "        text-align: right;\n",
       "    }\n",
       "</style>\n",
       "<table border=\"1\" class=\"dataframe\">\n",
       "  <thead>\n",
       "    <tr style=\"text-align: right;\">\n",
       "      <th></th>\n",
       "      <th>Term</th>\n",
       "      <th>frequency</th>\n",
       "      <th>tftd</th>\n",
       "      <th>is</th>\n",
       "      <th>the</th>\n",
       "      <th>relative</th>\n",
       "      <th>of</th>\n",
       "      <th>term</th>\n",
       "      <th>t</th>\n",
       "      <th>within</th>\n",
       "      <th>...</th>\n",
       "      <th>fraction</th>\n",
       "      <th>contain</th>\n",
       "      <th>obtained</th>\n",
       "      <th>by</th>\n",
       "      <th>dividing</th>\n",
       "      <th>containing</th>\n",
       "      <th>then</th>\n",
       "      <th>taking</th>\n",
       "      <th>logarithm</th>\n",
       "      <th>quotient</th>\n",
       "    </tr>\n",
       "  </thead>\n",
       "  <tbody>\n",
       "    <tr>\n",
       "      <th>0</th>\n",
       "      <td>1.0</td>\n",
       "      <td>3</td>\n",
       "      <td>1.0</td>\n",
       "      <td>3</td>\n",
       "      <td>7</td>\n",
       "      <td>1.0</td>\n",
       "      <td>5</td>\n",
       "      <td>5</td>\n",
       "      <td>2.0</td>\n",
       "      <td>1.0</td>\n",
       "      <td>...</td>\n",
       "      <td>0.0</td>\n",
       "      <td>0.0</td>\n",
       "      <td>0.0</td>\n",
       "      <td>0.0</td>\n",
       "      <td>0.0</td>\n",
       "      <td>0.0</td>\n",
       "      <td>0.0</td>\n",
       "      <td>0.0</td>\n",
       "      <td>0.0</td>\n",
       "      <td>0.0</td>\n",
       "    </tr>\n",
       "    <tr>\n",
       "      <th>1</th>\n",
       "      <td>0.0</td>\n",
       "      <td>1</td>\n",
       "      <td>0.0</td>\n",
       "      <td>2</td>\n",
       "      <td>8</td>\n",
       "      <td>0.0</td>\n",
       "      <td>5</td>\n",
       "      <td>1</td>\n",
       "      <td>0.0</td>\n",
       "      <td>0.0</td>\n",
       "      <td>...</td>\n",
       "      <td>1.0</td>\n",
       "      <td>1.0</td>\n",
       "      <td>1.0</td>\n",
       "      <td>2.0</td>\n",
       "      <td>1.0</td>\n",
       "      <td>1.0</td>\n",
       "      <td>1.0</td>\n",
       "      <td>1.0</td>\n",
       "      <td>1.0</td>\n",
       "      <td>1.0</td>\n",
       "    </tr>\n",
       "  </tbody>\n",
       "</table>\n",
       "<p>2 rows × 75 columns</p>\n",
       "</div>"
      ],
      "text/plain": [
       "   Term  frequency  tftd  is  the  relative  of  term    t  within  ...  \\\n",
       "0   1.0          3   1.0   3    7       1.0   5     5  2.0     1.0  ...   \n",
       "1   0.0          1   0.0   2    8       0.0   5     1  0.0     0.0  ...   \n",
       "\n",
       "   fraction  contain  obtained   by  dividing  containing  then  taking  \\\n",
       "0       0.0      0.0       0.0  0.0       0.0         0.0   0.0     0.0   \n",
       "1       1.0      1.0       1.0  2.0       1.0         1.0   1.0     1.0   \n",
       "\n",
       "   logarithm  quotient  \n",
       "0        0.0       0.0  \n",
       "1        1.0       1.0  \n",
       "\n",
       "[2 rows x 75 columns]"
      ]
     },
     "execution_count": 59,
     "metadata": {},
     "output_type": "execute_result"
    }
   ],
   "source": [
    "df = df.fillna(0)\n",
    "df"
   ]
  },
  {
   "cell_type": "code",
   "execution_count": 56,
   "metadata": {},
   "outputs": [
    {
     "data": {
      "text/plain": [
       "Index(['Term', 'frequency', 'tftd', 'is', 'the', 'relative', 'of', 'term', 't',\n",
       "       'within', 'document', 'd', 'where', 'ftd', 'raw', 'count', 'a', 'in',\n",
       "       'ie', 'number', 'times', 'that', 'occurs', 'Note', 'denominator',\n",
       "       'simply', 'total', 'terms', 'counting', 'each', 'occurrence', 'same',\n",
       "       'separately', 'There', 'are', 'various', 'other', 'ways', 'to',\n",
       "       'define', 'such', 'as', 'binary', 'logarithmic', 'and', 'augmented',\n",
       "       'Inverse', 'idftD', 'measure', 'how', 'much', 'information', 'word',\n",
       "       'provides', 'if', 'its', 'common', 'or', 'rare', 'across', 'all',\n",
       "       'documents', 'It', 'logarithmically', 'scaled', 'fraction', 'contain',\n",
       "       'obtained', 'by', 'dividing', 'containing', 'then', 'taking',\n",
       "       'logarithm', 'quotient'],\n",
       "      dtype='object')"
      ]
     },
     "execution_count": 56,
     "metadata": {},
     "output_type": "execute_result"
    }
   ],
   "source": [
    "df.columns"
   ]
  },
  {
   "cell_type": "markdown",
   "metadata": {},
   "source": [
    "<h2>TF</h2>(Term Frequency)"
   ]
  },
  {
   "cell_type": "code",
   "execution_count": 66,
   "metadata": {},
   "outputs": [
    {
     "name": "stdout",
     "output_type": "stream",
     "text": [
      "       Term  frequency      tftd        is  the  relative        of      term  \\\n",
      "0  0.785714   0.857143  0.785714  0.857143    1  0.785714  0.928571  0.928571   \n",
      "1  0.750000   0.781250  0.750000  0.812500    1  0.750000  0.906250  0.781250   \n",
      "\n",
      "          t    within  ...  fraction  contain  obtained      by  dividing  \\\n",
      "0  0.821429  0.785714  ...   0.75000  0.75000   0.75000  0.7500   0.75000   \n",
      "1  0.750000  0.750000  ...   0.78125  0.78125   0.78125  0.8125   0.78125   \n",
      "\n",
      "   containing     then   taking  logarithm  quotient  \n",
      "0     0.75000  0.75000  0.75000    0.75000   0.75000  \n",
      "1     0.78125  0.78125  0.78125    0.78125   0.78125  \n",
      "\n",
      "[2 rows x 75 columns]\n"
     ]
    }
   ],
   "source": [
    "def calculateTF(df): #calculating term frequency\n",
    "    res_df = df.copy()\n",
    "    col_names = df.columns\n",
    "    for i in range(len(df)):\n",
    "        tf = 0\n",
    "        max_val = 0\n",
    "        for j in col_names:\n",
    "            if df.loc[i,j] > max_val:\n",
    "                max_val = df.loc[i,j]\n",
    "        for k in col_names:\n",
    "            tf = 0.5+(0.5*df.loc[i,k])/max_val\n",
    "            res_df.loc[i,k] = tf\n",
    "    return res_df\n",
    "print(calculateTF(df))"
   ]
  },
  {
   "cell_type": "markdown",
   "metadata": {},
   "source": [
    "similarly IDF and TF-IDF can also be calculated. "
   ]
  }
 ],
 "metadata": {
  "kernelspec": {
   "display_name": "Python 3",
   "language": "python",
   "name": "python3"
  },
  "language_info": {
   "codemirror_mode": {
    "name": "ipython",
    "version": 3
   },
   "file_extension": ".py",
   "mimetype": "text/x-python",
   "name": "python",
   "nbconvert_exporter": "python",
   "pygments_lexer": "ipython3",
   "version": "3.10.0"
  }
 },
 "nbformat": 4,
 "nbformat_minor": 2
}
